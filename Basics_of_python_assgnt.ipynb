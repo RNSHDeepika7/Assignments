{
  "nbformat": 4,
  "nbformat_minor": 0,
  "metadata": {
    "colab": {
      "provenance": [],
      "authorship_tag": "ABX9TyPoU3vWCnZa+DWwZmFDJv8h",
      "include_colab_link": true
    },
    "kernelspec": {
      "name": "python3",
      "display_name": "Python 3"
    },
    "language_info": {
      "name": "python"
    }
  },
  "cells": [
    {
      "cell_type": "markdown",
      "metadata": {
        "id": "view-in-github",
        "colab_type": "text"
      },
      "source": [
        "<a href=\"https://colab.research.google.com/github/RNSHDeepika7/Assignments/blob/main/Basics_of_python_assgnt.ipynb\" target=\"_parent\"><img src=\"https://colab.research.google.com/assets/colab-badge.svg\" alt=\"Open In Colab\"/></a>"
      ]
    },
    {
      "cell_type": "code",
      "execution_count": 8,
      "metadata": {
        "id": "-Ln3nGpzAw4c"
      },
      "outputs": [],
      "source": [
        "#1. Prime number\n",
        "\n",
        "def is_prime(num):\n",
        "  if num <= 1:\n",
        "    return False\n",
        "  for i in range(2, int(num**0.5) + 1):\n",
        "    if num % i == 0:\n",
        "      return False\n",
        "  return True\n"
      ]
    },
    {
      "cell_type": "code",
      "source": [
        "print(is_prime(26))"
      ],
      "metadata": {
        "colab": {
          "base_uri": "https://localhost:8080/"
        },
        "id": "_ZolzCQzEpJl",
        "outputId": "95c13e82-39d7-47c8-e5da-bfe4017fbe18"
      },
      "execution_count": 9,
      "outputs": [
        {
          "output_type": "stream",
          "name": "stdout",
          "text": [
            "False\n"
          ]
        }
      ]
    },
    {
      "cell_type": "code",
      "source": [
        "print(is_prime(43))"
      ],
      "metadata": {
        "colab": {
          "base_uri": "https://localhost:8080/"
        },
        "id": "C91Lsm3UEvz3",
        "outputId": "57576547-4cef-418f-b984-bc6f576d2368"
      },
      "execution_count": 10,
      "outputs": [
        {
          "output_type": "stream",
          "name": "stdout",
          "text": [
            "True\n"
          ]
        }
      ]
    },
    {
      "cell_type": "code",
      "source": [
        "#2. Product of two random numbers\n",
        "\n",
        "import random\n",
        "\n",
        "# Generate two random numbers\n",
        "num1 = random.randint(1, 100)\n",
        "num2 = random.randint(1, 100)\n",
        "\n",
        "# Calculate the product of the two numbers\n",
        "product = num1 * num2\n",
        "\n",
        "# Prompt the user to enter the product\n",
        "user_answer = int(input(\"What is the product of \" + str(num1) + \" and \" + str(num2) + \"? \"))\n",
        "\n",
        "# Check if the user's answer is correct\n",
        "if user_answer == product:\n",
        "  print(\"Your answer is correct.\")\n",
        "else:\n",
        "  print(\"Your answer is incorrect. The correct answer is \" + str(product))\n"
      ],
      "metadata": {
        "colab": {
          "base_uri": "https://localhost:8080/"
        },
        "id": "zA8azMflBvbA",
        "outputId": "f48fb9a0-405b-4362-a055-62cd64fde22a"
      },
      "execution_count": 11,
      "outputs": [
        {
          "output_type": "stream",
          "name": "stdout",
          "text": [
            "What is the product of 65 and 8? 510\n",
            "Your answer is incorrect. The correct answer is 520\n"
          ]
        }
      ]
    },
    {
      "cell_type": "code",
      "source": [
        "#3. Squares of even/odd numbers\n",
        "\n",
        "# This script prints the squares of all even numbers within the range of 100 to 200\n",
        "\n",
        "# Loop through the range of 100 to 200\n",
        "for i in range(100, 201):\n",
        "  # Check if the number is even\n",
        "  if i % 2 == 0:\n",
        "    # Calculate the square of the number\n",
        "    square = i ** 2\n",
        "    # Print the square\n",
        "    print(square)\n"
      ],
      "metadata": {
        "colab": {
          "base_uri": "https://localhost:8080/"
        },
        "id": "AELLD_gJCKRp",
        "outputId": "72e2f2cb-afa3-4197-cb9c-d8373ed74b66"
      },
      "execution_count": 4,
      "outputs": [
        {
          "output_type": "stream",
          "name": "stdout",
          "text": [
            "10000\n",
            "10404\n",
            "10816\n",
            "11236\n",
            "11664\n",
            "12100\n",
            "12544\n",
            "12996\n",
            "13456\n",
            "13924\n",
            "14400\n",
            "14884\n",
            "15376\n",
            "15876\n",
            "16384\n",
            "16900\n",
            "17424\n",
            "17956\n",
            "18496\n",
            "19044\n",
            "19600\n",
            "20164\n",
            "20736\n",
            "21316\n",
            "21904\n",
            "22500\n",
            "23104\n",
            "23716\n",
            "24336\n",
            "24964\n",
            "25600\n",
            "26244\n",
            "26896\n",
            "27556\n",
            "28224\n",
            "28900\n",
            "29584\n",
            "30276\n",
            "30976\n",
            "31684\n",
            "32400\n",
            "33124\n",
            "33856\n",
            "34596\n",
            "35344\n",
            "36100\n",
            "36864\n",
            "37636\n",
            "38416\n",
            "39204\n",
            "40000\n"
          ]
        }
      ]
    },
    {
      "cell_type": "code",
      "source": [
        "# 4. Word counter\n",
        "\n",
        "input_text = \"This is a sample text. This text will be used to demonstrate the word counter.\"\n",
        "word_counts = {}\n",
        "\n",
        "# Split the string into words\n",
        "words = input_text.split()\n",
        "\n",
        "# Count the number of times each word appears\n",
        "for word in words:\n",
        "  if word in word_counts:\n",
        "    word_counts[word] += 1\n",
        "  else:\n",
        "    word_counts[word] = 1\n",
        "\n",
        "# Print the word counts\n",
        "for word, count in word_counts.items():\n",
        "  print(f\"'{word}': {count}\")\n"
      ],
      "metadata": {
        "colab": {
          "base_uri": "https://localhost:8080/"
        },
        "id": "008sin-hCyd6",
        "outputId": "074fbaff-ea62-4dbf-a5de-2cd191994144"
      },
      "execution_count": 5,
      "outputs": [
        {
          "output_type": "stream",
          "name": "stdout",
          "text": [
            "'This': 2\n",
            "'is': 1\n",
            "'a': 1\n",
            "'sample': 1\n",
            "'text.': 1\n",
            "'text': 1\n",
            "'will': 1\n",
            "'be': 1\n",
            "'used': 1\n",
            "'to': 1\n",
            "'demonstrate': 1\n",
            "'the': 1\n",
            "'word': 1\n",
            "'counter.': 1\n"
          ]
        }
      ]
    },
    {
      "cell_type": "code",
      "source": [
        "#5. check for palindrome\n",
        "\n",
        "def is_palindrome(string):\n",
        "  # Lowercase the string\n",
        "  string = string.lower()\n",
        "  # Remove all non-alphanumeric characters\n",
        "  string = ''.join(filter(str.isalnum, string))\n",
        "  # Check if the string is the same forwards and backwards\n",
        "  return string == string[::-1]\n"
      ],
      "metadata": {
        "id": "84hNLRMVDZgH"
      },
      "execution_count": 12,
      "outputs": []
    },
    {
      "cell_type": "code",
      "source": [
        "print(is_palindrome(\"racecar\"))"
      ],
      "metadata": {
        "colab": {
          "base_uri": "https://localhost:8080/"
        },
        "id": "whMnjPGhEN2G",
        "outputId": "a605f79b-887e-4cc8-f59a-c66b1d84fe7b"
      },
      "execution_count": 13,
      "outputs": [
        {
          "output_type": "stream",
          "name": "stdout",
          "text": [
            "True\n"
          ]
        }
      ]
    },
    {
      "cell_type": "code",
      "source": [
        "print(is_palindrome(\"laptop\"))"
      ],
      "metadata": {
        "colab": {
          "base_uri": "https://localhost:8080/"
        },
        "id": "Ndhb9zmKFD7S",
        "outputId": "410b2d24-f8dc-46ef-c22b-e4aee1003306"
      },
      "execution_count": 14,
      "outputs": [
        {
          "output_type": "stream",
          "name": "stdout",
          "text": [
            "False\n"
          ]
        }
      ]
    }
  ]
}