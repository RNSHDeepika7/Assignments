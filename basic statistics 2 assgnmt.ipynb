{
 "cells": [
  {
   "cell_type": "code",
   "execution_count": 12,
   "id": "da1596f6",
   "metadata": {},
   "outputs": [
    {
     "data": {
      "text/plain": [
       "array([[24.23],\n",
       "       [25.53],\n",
       "       [25.41],\n",
       "       [24.14],\n",
       "       [29.62],\n",
       "       [28.25],\n",
       "       [25.81],\n",
       "       [24.39],\n",
       "       [40.26],\n",
       "       [32.95],\n",
       "       [91.36],\n",
       "       [25.99],\n",
       "       [39.42],\n",
       "       [26.71],\n",
       "       [35.  ]])"
      ]
     },
     "execution_count": 12,
     "metadata": {},
     "output_type": "execute_result"
    }
   ],
   "source": [
    "#SET 1\n",
    "#1\n",
    "import numpy as np\n",
    "x=np.array([[24.23],[25.53],[25.41],[24.14],[29.62],[28.25],[25.81],[24.39],[40.26],[32.95],[91.36],[25.99],[39.42],[26.71],[35.00]])\n",
    "x"
   ]
  },
  {
   "cell_type": "code",
   "execution_count": 13,
   "id": "41e84d12",
   "metadata": {},
   "outputs": [],
   "source": [
    "import pandas as pd\n",
    "df=pd.DataFrame(x)"
   ]
  },
  {
   "cell_type": "code",
   "execution_count": 9,
   "id": "eb6ee52f",
   "metadata": {},
   "outputs": [
    {
     "name": "stdout",
     "output_type": "stream",
     "text": [
      "Mean = 33.27133333333333\n",
      "Variance= 268.00350488888887\n",
      "Standard deviation= 16.370812590976932\n"
     ]
    }
   ],
   "source": [
    "print(\"Mean =\",df.mean())\n",
    "print(\"Variance=\",df.var())\n",
    "print(\"Standard deviation=\",df.std())"
   ]
  },
  {
   "cell_type": "code",
   "execution_count": 22,
   "id": "567c69de",
   "metadata": {},
   "outputs": [],
   "source": [
    "df.columns=[\"x\"]"
   ]
  },
  {
   "cell_type": "code",
   "execution_count": 19,
   "id": "8b8bdfd8",
   "metadata": {},
   "outputs": [
    {
     "data": {
      "image/png": "[encoded data removed]",
      "text/plain": [
       "<Figure size 800x400 with 1 Axes>"
      ]
     },
     "metadata": {},
     "output_type": "display_data"
    }
   ],
   "source": [
    "import matplotlib.pyplot as plt\n",
    "import seaborn as sns\n",
    "for col in [\"x\"]:\n",
    "    plt.figure(figsize=(8,4))\n",
    "    sns.boxplot(x=col,data=df)\n",
    "    plt.show()"
   ]
  },
  {
   "cell_type": "code",
   "execution_count": 20,
   "id": "41d5a649",
   "metadata": {},
   "outputs": [],
   "source": [
    "# 91.36 is the outlier"
   ]
  },
  {
   "cell_type": "code",
   "execution_count": 23,
   "id": "2844e69e",
   "metadata": {},
   "outputs": [
    {
     "name": "stdout",
     "output_type": "stream",
     "text": [
      "Probability that at least one in five attempted telephone calls reaches the wrong number= 0.0002475093624999536\n"
     ]
    }
   ],
   "source": [
    "#4\n",
    "from scipy.stats import binom\n",
    "calls=binom(5,1/200)\n",
    "x1=1-calls.cdf(1)\n",
    "print(\"Probability that at least one in five attempted telephone calls reaches the wrong number=\",x1)"
   ]
  },
  {
   "cell_type": "code",
   "execution_count": 26,
   "id": "58ab762d",
   "metadata": {},
   "outputs": [
    {
     "name": "stdout",
     "output_type": "stream",
     "text": [
      "probability that the service manager cannot meet his commitment= 0.26598552904870054\n"
     ]
    }
   ],
   "source": [
    "#SET 2\n",
    "#1\n",
    "from scipy.stats import norm\n",
    "time=norm(45,8)\n",
    "y1=1-time.cdf(50)\n",
    "print(\"probability that the service manager cannot meet his commitment=\",y1)"
   ]
  },
  {
   "cell_type": "code",
   "execution_count": 31,
   "id": "3325cc05",
   "metadata": {},
   "outputs": [
    {
     "data": {
      "text/plain": [
       "0.34"
      ]
     },
     "execution_count": 31,
     "metadata": {},
     "output_type": "execute_result"
    }
   ],
   "source": [
    "#2\n",
    "from scipy.stats import norm\n",
    "age=norm(38,6)\n",
    "x2=age.cdf(44)-age.cdf(38)\n",
    "y2=x2.round(2)\n",
    "y2"
   ]
  },
  {
   "cell_type": "code",
   "execution_count": 32,
   "id": "0937206c",
   "metadata": {},
   "outputs": [
    {
     "data": {
      "text/plain": [
       "136.0"
      ]
     },
     "execution_count": 32,
     "metadata": {},
     "output_type": "execute_result"
    }
   ],
   "source": [
    "n1=400*y2\n",
    "n1"
   ]
  },
  {
   "cell_type": "code",
   "execution_count": 33,
   "id": "3fb5894b",
   "metadata": {},
   "outputs": [
    {
     "data": {
      "text/plain": [
       "0.16"
      ]
     },
     "execution_count": 33,
     "metadata": {},
     "output_type": "execute_result"
    }
   ],
   "source": [
    "x3=1-age.cdf(44)\n",
    "y3=x3.round(2)\n",
    "y3"
   ]
  },
  {
   "cell_type": "code",
   "execution_count": 34,
   "id": "064616dc",
   "metadata": {},
   "outputs": [
    {
     "data": {
      "text/plain": [
       "64.0"
      ]
     },
     "execution_count": 34,
     "metadata": {},
     "output_type": "execute_result"
    }
   ],
   "source": [
    "n2=400*y3\n",
    "n2"
   ]
  },
  {
   "cell_type": "code",
   "execution_count": 39,
   "id": "40c58993",
   "metadata": {},
   "outputs": [
    {
     "data": {
      "text/plain": [
       "0.03"
      ]
     },
     "execution_count": 39,
     "metadata": {},
     "output_type": "execute_result"
    }
   ],
   "source": [
    "x4=age.pdf(30)\n",
    "y4=x4.round(2)\n",
    "y4"
   ]
  },
  {
   "cell_type": "code",
   "execution_count": 40,
   "id": "a80679d4",
   "metadata": {},
   "outputs": [
    {
     "data": {
      "text/plain": [
       "12.0"
      ]
     },
     "execution_count": 40,
     "metadata": {},
     "output_type": "execute_result"
    }
   ],
   "source": [
    "n3=400*y4\n",
    "n3"
   ]
  },
  {
   "cell_type": "code",
   "execution_count": 43,
   "id": "4532cfd2",
   "metadata": {},
   "outputs": [
    {
     "data": {
      "text/plain": [
       "0.9899759913364774"
      ]
     },
     "execution_count": 43,
     "metadata": {},
     "output_type": "execute_result"
    }
   ],
   "source": [
    "#4\n",
    "from scipy.stats import norm\n",
    "value=norm(100,20)\n",
    "x1=value.cdf(151.5)-value.cdf(48.5)\n",
    "x1"
   ]
  }
 ],
 "metadata": {
  "kernelspec": {
   "display_name": "Python 3 (ipykernel)",
   "language": "python",
   "name": "python3"
  },
  "language_info": {
   "codemirror_mode": {
    "name": "ipython",
    "version": 3
   },
   "file_extension": ".py",
   "mimetype": "text/x-python",
   "name": "python",
   "nbconvert_exporter": "python",
   "pygments_lexer": "ipython3",
   "version": "3.11.5"
  }
 },
 "nbformat": 4,
 "nbformat_minor": 5
}
